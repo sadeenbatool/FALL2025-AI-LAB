{
 "cells": [
  {
   "cell_type": "markdown",
   "id": "9d4a1c41",
   "metadata": {},
   "source": [
    "# Average Film Budget"
   ]
  },
  {
   "cell_type": "code",
   "execution_count": 2,
   "id": "abe1d2b3",
   "metadata": {},
   "outputs": [
    {
     "name": "stdout",
     "output_type": "stream",
     "text": [
      "The average movie budget is: $1707937500.0\n",
      "Bumble bee had a budget $10622062500.0 above average.\n",
      " Number of movies with above-average budgets: 1\n"
     ]
    }
   ],
   "source": [
    "movies = [\n",
    "    (\"Eternal Sunshine of the Spotless Mind\", 20000000),\n",
    "    (\"Memento\", 9000000),\n",
    "    (\"Requiem for a Dream\", 4500000),\n",
    "    (\"Pirates of the Caribbean: On Stranger Tides\", 379000000),\n",
    "    (\"Avengers: Age of Ultron\", 365000000),\n",
    "    (\"Avengers: Endgame\", 356000000),\n",
    "    (\"Incredibles 2\", 200000000)\n",
    "]\n",
    "\n",
    "\n",
    "new_movies = int(input(\"How many movies would you like to add? \"))\n",
    "\n",
    "for i in range(new_movies):\n",
    "    name = input(f\"Enter the name of movie {i+1}: \")\n",
    "    budget = int(input(f\"Enter the budget of '{name}': \"))\n",
    "    movies.append((name, budget))  \n",
    "\n",
    "\n",
    "total_budget = 0\n",
    "for movie in movies:\n",
    "    total_budget += movie[1]  \n",
    "\n",
    "average_budget = total_budget / len(movies)\n",
    "\n",
    "print(f\"The average movie budget is: ${average_budget:}\")\n",
    "\n",
    "\n",
    "average_count = 0\n",
    "\n",
    "for movie in movies:\n",
    "    name, budget = movie\n",
    "    if budget > average_budget:\n",
    "        average_count += 1\n",
    "        difference = budget - average_budget\n",
    "        print(f\"{name} had a budget ${difference:} above average.\")\n",
    "\n",
    "\n",
    "print(f\" Number of movies with above-average budgets: {average_count}\")\n"
   ]
  }
 ],
 "metadata": {
  "kernelspec": {
   "display_name": "Python 3",
   "language": "python",
   "name": "python3"
  },
  "language_info": {
   "codemirror_mode": {
    "name": "ipython",
    "version": 3
   },
   "file_extension": ".py",
   "mimetype": "text/x-python",
   "name": "python",
   "nbconvert_exporter": "python",
   "pygments_lexer": "ipython3",
   "version": "3.13.0"
  }
 },
 "nbformat": 4,
 "nbformat_minor": 5
}
