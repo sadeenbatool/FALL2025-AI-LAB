{
 "cells": [
  {
   "cell_type": "markdown",
   "id": "11cf0fb1",
   "metadata": {},
   "source": [
    "# Fizz-Bozz Game:"
   ]
  },
  {
   "cell_type": "code",
   "execution_count": 4,
   "id": "48c7fdb6",
   "metadata": {},
   "outputs": [
    {
     "name": "stdout",
     "output_type": "stream",
     "text": [
      "1\n",
      "2\n",
      "Fizz\n",
      "4\n",
      "Buzz\n",
      "Fizz\n",
      "7\n",
      "8\n",
      "Fizz\n",
      "Buzz\n"
     ]
    }
   ],
   "source": [
    "x= int(input(\"Enter the value:\"))\n",
    "for y in range(1,x+1):\n",
    "    if y%3==0 and y%5==0:\n",
    "        print(\"FizzBuzz\")\n",
    "    elif y%3==0:\n",
    "        print(\"Fizz\")\n",
    "    elif y%5==0:\n",
    "        print(\"Buzz\")\n",
    "    else:\n",
    "        print(y)"
   ]
  }
 ],
 "metadata": {
  "kernelspec": {
   "display_name": "Python 3",
   "language": "python",
   "name": "python3"
  },
  "language_info": {
   "codemirror_mode": {
    "name": "ipython",
    "version": 3
   },
   "file_extension": ".py",
   "mimetype": "text/x-python",
   "name": "python",
   "nbconvert_exporter": "python",
   "pygments_lexer": "ipython3",
   "version": "3.13.0"
  }
 },
 "nbformat": 4,
 "nbformat_minor": 5
}
